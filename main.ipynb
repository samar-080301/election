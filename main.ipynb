{
 "cells": [
  {
   "cell_type": "code",
   "execution_count": 20,
   "metadata": {},
   "outputs": [
    {
     "data": {
      "text/html": [
       "<div>\n",
       "<style scoped>\n",
       "    .dataframe tbody tr th:only-of-type {\n",
       "        vertical-align: middle;\n",
       "    }\n",
       "\n",
       "    .dataframe tbody tr th {\n",
       "        vertical-align: top;\n",
       "    }\n",
       "\n",
       "    .dataframe thead th {\n",
       "        text-align: right;\n",
       "    }\n",
       "</style>\n",
       "<table border=\"1\" class=\"dataframe\">\n",
       "  <thead>\n",
       "    <tr style=\"text-align: right;\">\n",
       "      <th></th>\n",
       "      <th>State/UT Name</th>\n",
       "      <th>PC NO</th>\n",
       "      <th>PC NAME</th>\n",
       "      <th>TOTAL ELECTORS IN PC</th>\n",
       "      <th>AC NO</th>\n",
       "      <th>AC NAME</th>\n",
       "      <th>TOTAL ELECTORS IN AC</th>\n",
       "      <th>TOTAL VALID VOTES IN STATE</th>\n",
       "      <th>NOTA VOTES EVM IN AC</th>\n",
       "      <th>CANDIDATE NAME</th>\n",
       "      <th>PARTY</th>\n",
       "      <th>VOTES SECURED EVM</th>\n",
       "    </tr>\n",
       "  </thead>\n",
       "  <tbody>\n",
       "    <tr>\n",
       "      <th>0</th>\n",
       "      <td>Andhra Pradesh</td>\n",
       "      <td>1.0</td>\n",
       "      <td>Araku</td>\n",
       "      <td>1557153.0</td>\n",
       "      <td>10.0</td>\n",
       "      <td>Palakonda</td>\n",
       "      <td>195673.0</td>\n",
       "      <td>33327256.0</td>\n",
       "      <td>4441.0</td>\n",
       "      <td>APPALANARASA PACHIPENTA</td>\n",
       "      <td>CPI(M)</td>\n",
       "      <td>3873.0</td>\n",
       "    </tr>\n",
       "  </tbody>\n",
       "</table>\n",
       "</div>"
      ],
      "text/plain": [
       "    State/UT Name  PC NO PC NAME  TOTAL ELECTORS IN PC  AC NO    AC NAME  \\\n",
       "0  Andhra Pradesh    1.0   Araku             1557153.0   10.0  Palakonda   \n",
       "\n",
       "   TOTAL ELECTORS IN AC  TOTAL VALID VOTES IN STATE  NOTA VOTES EVM IN AC  \\\n",
       "0              195673.0                  33327256.0                4441.0   \n",
       "\n",
       "            CANDIDATE NAME   PARTY  VOTES SECURED EVM  \n",
       "0  APPALANARASA PACHIPENTA  CPI(M)             3873.0  "
      ]
     },
     "execution_count": 20,
     "metadata": {},
     "output_type": "execute_result"
    }
   ],
   "source": [
    "import pandas as pd\n",
    "df1 = pd.read_csv(\"assembly-segment-level-voting-data-for-all-constituencies-2024.csv\",header=1)\n",
    "df1.head(1)"
   ]
  },
  {
   "cell_type": "code",
   "execution_count": 21,
   "metadata": {},
   "outputs": [
    {
     "data": {
      "text/html": [
       "<div>\n",
       "<style scoped>\n",
       "    .dataframe tbody tr th:only-of-type {\n",
       "        vertical-align: middle;\n",
       "    }\n",
       "\n",
       "    .dataframe tbody tr th {\n",
       "        vertical-align: top;\n",
       "    }\n",
       "\n",
       "    .dataframe thead th {\n",
       "        text-align: right;\n",
       "    }\n",
       "</style>\n",
       "<table border=\"1\" class=\"dataframe\">\n",
       "  <thead>\n",
       "    <tr style=\"text-align: right;\">\n",
       "      <th></th>\n",
       "      <th>State</th>\n",
       "      <th>PC NO</th>\n",
       "      <th>Constituency</th>\n",
       "      <th>Party</th>\n",
       "      <th>Candidate Name</th>\n",
       "      <th>Gender</th>\n",
       "      <th>Age</th>\n",
       "      <th>Address</th>\n",
       "      <th>Application Date</th>\n",
       "      <th>Application Status</th>\n",
       "      <th>Father/Husband's Name</th>\n",
       "      <th>Photo Link</th>\n",
       "      <th>Phase</th>\n",
       "      <th>Polling Date</th>\n",
       "    </tr>\n",
       "  </thead>\n",
       "  <tbody>\n",
       "    <tr>\n",
       "      <th>0</th>\n",
       "      <td>Andaman &amp; Nicobar Islands</td>\n",
       "      <td>1</td>\n",
       "      <td>Andaman &amp; Nicobar Islands</td>\n",
       "      <td>Independent</td>\n",
       "      <td>V.K. ABDUL AZIZ</td>\n",
       "      <td>male</td>\n",
       "      <td>42</td>\n",
       "      <td>Brindaban</td>\n",
       "      <td>27th March, 2024</td>\n",
       "      <td>Accepted</td>\n",
       "      <td>V.M. KOCHUNNI</td>\n",
       "      <td>https://results.eci.gov.in/uploads4/candprofil...</td>\n",
       "      <td>1</td>\n",
       "      <td>19-04-2024</td>\n",
       "    </tr>\n",
       "  </tbody>\n",
       "</table>\n",
       "</div>"
      ],
      "text/plain": [
       "                       State  PC NO               Constituency        Party  \\\n",
       "0  Andaman & Nicobar Islands      1  Andaman & Nicobar Islands  Independent   \n",
       "\n",
       "    Candidate Name Gender  Age    Address  Application Date  \\\n",
       "0  V.K. ABDUL AZIZ   male   42  Brindaban  27th March, 2024   \n",
       "\n",
       "  Application Status Father/Husband's Name  \\\n",
       "0           Accepted         V.M. KOCHUNNI   \n",
       "\n",
       "                                          Photo Link  Phase Polling Date  \n",
       "0  https://results.eci.gov.in/uploads4/candprofil...      1   19-04-2024  "
      ]
     },
     "execution_count": 21,
     "metadata": {},
     "output_type": "execute_result"
    }
   ],
   "source": [
    "df2 = pd.read_csv(\"candidates_with_phase.csv\")\n",
    "df2.rename(columns={\"Constituency_No\": \"PC NO\"}, inplace=True)\n",
    "df2.head(1)"
   ]
  },
  {
   "cell_type": "code",
   "execution_count": 22,
   "metadata": {},
   "outputs": [
    {
     "data": {
      "text/html": [
       "<div>\n",
       "<style scoped>\n",
       "    .dataframe tbody tr th:only-of-type {\n",
       "        vertical-align: middle;\n",
       "    }\n",
       "\n",
       "    .dataframe tbody tr th {\n",
       "        vertical-align: top;\n",
       "    }\n",
       "\n",
       "    .dataframe thead th {\n",
       "        text-align: right;\n",
       "    }\n",
       "</style>\n",
       "<table border=\"1\" class=\"dataframe\">\n",
       "  <thead>\n",
       "    <tr style=\"text-align: right;\">\n",
       "      <th></th>\n",
       "      <th>State</th>\n",
       "      <th>PC NO</th>\n",
       "      <th>PC Name</th>\n",
       "      <th>Sl no</th>\n",
       "      <th>Candidate</th>\n",
       "      <th>Party</th>\n",
       "      <th>EVM Votes</th>\n",
       "      <th>Postal Votes</th>\n",
       "      <th>Total Votes</th>\n",
       "      <th>Vote Share</th>\n",
       "    </tr>\n",
       "  </thead>\n",
       "  <tbody>\n",
       "    <tr>\n",
       "      <th>0</th>\n",
       "      <td>Andhra Pradesh</td>\n",
       "      <td>1</td>\n",
       "      <td>Araku (ST)</td>\n",
       "      <td>1</td>\n",
       "      <td>GUMMA THANUJA RANI</td>\n",
       "      <td>Yuvajana Sramika Rythu Congress Party</td>\n",
       "      <td>471470</td>\n",
       "      <td>5535</td>\n",
       "      <td>477005</td>\n",
       "      <td>40.96</td>\n",
       "    </tr>\n",
       "  </tbody>\n",
       "</table>\n",
       "</div>"
      ],
      "text/plain": [
       "            State  PC NO     PC Name  Sl no           Candidate  \\\n",
       "0  Andhra Pradesh      1  Araku (ST)      1  GUMMA THANUJA RANI   \n",
       "\n",
       "                                   Party EVM Votes Postal Votes Total Votes  \\\n",
       "0  Yuvajana Sramika Rythu Congress Party    471470         5535      477005   \n",
       "\n",
       "  Vote Share  \n",
       "0      40.96  "
      ]
     },
     "execution_count": 22,
     "metadata": {},
     "output_type": "execute_result"
    }
   ],
   "source": [
    "df3 = pd.read_csv(\"lok-sabha-elections-2024-results.csv\")\n",
    "df3.rename(columns={\"PC No\": \"PC NO\"}, inplace=True)\n",
    "df3.head(1)"
   ]
  },
  {
   "cell_type": "code",
   "execution_count": 23,
   "metadata": {},
   "outputs": [
    {
     "data": {
      "text/html": [
       "<div>\n",
       "<style scoped>\n",
       "    .dataframe tbody tr th:only-of-type {\n",
       "        vertical-align: middle;\n",
       "    }\n",
       "\n",
       "    .dataframe tbody tr th {\n",
       "        vertical-align: top;\n",
       "    }\n",
       "\n",
       "    .dataframe thead th {\n",
       "        text-align: right;\n",
       "    }\n",
       "</style>\n",
       "<table border=\"1\" class=\"dataframe\">\n",
       "  <thead>\n",
       "    <tr style=\"text-align: right;\">\n",
       "      <th></th>\n",
       "      <th>State</th>\n",
       "      <th>PC NO</th>\n",
       "      <th>PC Name</th>\n",
       "      <th>Winning Candidate</th>\n",
       "      <th>Winning Party</th>\n",
       "      <th>Runner-up Canddiate</th>\n",
       "      <th>Runner-up Party</th>\n",
       "      <th>Margin Votes</th>\n",
       "      <th>Results Status</th>\n",
       "    </tr>\n",
       "  </thead>\n",
       "  <tbody>\n",
       "    <tr>\n",
       "      <th>0</th>\n",
       "      <td>Andhra Pradesh</td>\n",
       "      <td>7</td>\n",
       "      <td>Amalapuram (SC)</td>\n",
       "      <td>G M HARISH (BALAYOGI)</td>\n",
       "      <td>Telugu Desam</td>\n",
       "      <td>RAPAKA VARAPRASADA RAO</td>\n",
       "      <td>Yuvajana Sramika Rythu Congress Party</td>\n",
       "      <td>342196</td>\n",
       "      <td>Result Declared</td>\n",
       "    </tr>\n",
       "  </tbody>\n",
       "</table>\n",
       "</div>"
      ],
      "text/plain": [
       "            State  PC NO          PC Name      Winning Candidate  \\\n",
       "0  Andhra Pradesh      7  Amalapuram (SC)  G M HARISH (BALAYOGI)   \n",
       "\n",
       "  Winning Party     Runner-up Canddiate  \\\n",
       "0  Telugu Desam  RAPAKA VARAPRASADA RAO   \n",
       "\n",
       "                         Runner-up Party Margin Votes   Results Status  \n",
       "0  Yuvajana Sramika Rythu Congress Party       342196  Result Declared  "
      ]
     },
     "execution_count": 23,
     "metadata": {},
     "output_type": "execute_result"
    }
   ],
   "source": [
    "df4 = pd.read_csv(\"lok-sabha-elections-winners-and-runners-up-2024.csv\")\n",
    "df4.rename(columns={\"PC No\": \"PC NO\"}, inplace=True)\n",
    "df4.head(1)"
   ]
  },
  {
   "cell_type": "code",
   "execution_count": 24,
   "metadata": {},
   "outputs": [
    {
     "data": {
      "text/html": [
       "<div>\n",
       "<style scoped>\n",
       "    .dataframe tbody tr th:only-of-type {\n",
       "        vertical-align: middle;\n",
       "    }\n",
       "\n",
       "    .dataframe tbody tr th {\n",
       "        vertical-align: top;\n",
       "    }\n",
       "\n",
       "    .dataframe thead th {\n",
       "        text-align: right;\n",
       "    }\n",
       "</style>\n",
       "<table border=\"1\" class=\"dataframe\">\n",
       "  <thead>\n",
       "    <tr style=\"text-align: right;\">\n",
       "      <th></th>\n",
       "      <th>State</th>\n",
       "      <th>PC NO</th>\n",
       "      <th>PC Name</th>\n",
       "      <th>Winning Candidate</th>\n",
       "      <th>Winning Party</th>\n",
       "      <th>Runner-up Canddiate</th>\n",
       "      <th>Runner-up Party</th>\n",
       "      <th>Margin Votes</th>\n",
       "      <th>Results Status</th>\n",
       "    </tr>\n",
       "  </thead>\n",
       "  <tbody>\n",
       "    <tr>\n",
       "      <th>0</th>\n",
       "      <td>Andhra Pradesh</td>\n",
       "      <td>7</td>\n",
       "      <td>Amalapuram (SC)</td>\n",
       "      <td>G M HARISH (BALAYOGI)</td>\n",
       "      <td>Telugu Desam</td>\n",
       "      <td>RAPAKA VARAPRASADA RAO</td>\n",
       "      <td>Yuvajana Sramika Rythu Congress Party</td>\n",
       "      <td>342196</td>\n",
       "      <td>Result Declared</td>\n",
       "    </tr>\n",
       "  </tbody>\n",
       "</table>\n",
       "</div>"
      ],
      "text/plain": [
       "            State  PC NO          PC Name      Winning Candidate  \\\n",
       "0  Andhra Pradesh      7  Amalapuram (SC)  G M HARISH (BALAYOGI)   \n",
       "\n",
       "  Winning Party     Runner-up Canddiate  \\\n",
       "0  Telugu Desam  RAPAKA VARAPRASADA RAO   \n",
       "\n",
       "                         Runner-up Party Margin Votes   Results Status  \n",
       "0  Yuvajana Sramika Rythu Congress Party       342196  Result Declared  "
      ]
     },
     "execution_count": 24,
     "metadata": {},
     "output_type": "execute_result"
    }
   ],
   "source": [
    "df5 = pd.read_csv(\"lok-sabha-elections-winners-and-runners-up-2024.csv\")\n",
    "df5.rename(columns={\"PC No\": \"PC NO\"}, inplace=True)\n",
    "df5.head(1)"
   ]
  },
  {
   "cell_type": "code",
   "execution_count": 25,
   "metadata": {},
   "outputs": [
    {
     "data": {
      "text/html": [
       "<div>\n",
       "<style scoped>\n",
       "    .dataframe tbody tr th:only-of-type {\n",
       "        vertical-align: middle;\n",
       "    }\n",
       "\n",
       "    .dataframe tbody tr th {\n",
       "        vertical-align: top;\n",
       "    }\n",
       "\n",
       "    .dataframe thead th {\n",
       "        text-align: right;\n",
       "    }\n",
       "</style>\n",
       "<table border=\"1\" class=\"dataframe\">\n",
       "  <thead>\n",
       "    <tr style=\"text-align: right;\">\n",
       "      <th></th>\n",
       "      <th>State</th>\n",
       "      <th>PC NO</th>\n",
       "      <th>PC Name</th>\n",
       "      <th>Winning Candidate</th>\n",
       "      <th>Winning Party</th>\n",
       "      <th>Runner-up Canddiate</th>\n",
       "      <th>Runner-up Party</th>\n",
       "      <th>Margin Votes</th>\n",
       "      <th>Results Status</th>\n",
       "    </tr>\n",
       "  </thead>\n",
       "  <tbody>\n",
       "    <tr>\n",
       "      <th>0</th>\n",
       "      <td>Andhra Pradesh</td>\n",
       "      <td>7</td>\n",
       "      <td>Amalapuram (SC)</td>\n",
       "      <td>G M HARISH (BALAYOGI)</td>\n",
       "      <td>Telugu Desam</td>\n",
       "      <td>RAPAKA VARAPRASADA RAO</td>\n",
       "      <td>Yuvajana Sramika Rythu Congress Party</td>\n",
       "      <td>342196</td>\n",
       "      <td>Result Declared</td>\n",
       "    </tr>\n",
       "  </tbody>\n",
       "</table>\n",
       "</div>"
      ],
      "text/plain": [
       "            State  PC NO          PC Name      Winning Candidate  \\\n",
       "0  Andhra Pradesh      7  Amalapuram (SC)  G M HARISH (BALAYOGI)   \n",
       "\n",
       "  Winning Party     Runner-up Canddiate  \\\n",
       "0  Telugu Desam  RAPAKA VARAPRASADA RAO   \n",
       "\n",
       "                         Runner-up Party Margin Votes   Results Status  \n",
       "0  Yuvajana Sramika Rythu Congress Party       342196  Result Declared  "
      ]
     },
     "execution_count": 25,
     "metadata": {},
     "output_type": "execute_result"
    }
   ],
   "source": [
    "df6 = pd.read_csv(\"results_2024_winners.csv\")\n",
    "df6.rename(columns={\"PC No\": \"PC NO\"}, inplace=True)\n",
    "df6.head(1)"
   ]
  },
  {
   "cell_type": "code",
   "execution_count": 26,
   "metadata": {},
   "outputs": [
    {
     "data": {
      "text/html": [
       "<div>\n",
       "<style scoped>\n",
       "    .dataframe tbody tr th:only-of-type {\n",
       "        vertical-align: middle;\n",
       "    }\n",
       "\n",
       "    .dataframe tbody tr th {\n",
       "        vertical-align: top;\n",
       "    }\n",
       "\n",
       "    .dataframe thead th {\n",
       "        text-align: right;\n",
       "    }\n",
       "</style>\n",
       "<table border=\"1\" class=\"dataframe\">\n",
       "  <thead>\n",
       "    <tr style=\"text-align: right;\">\n",
       "      <th></th>\n",
       "      <th>State</th>\n",
       "      <th>PC NO</th>\n",
       "      <th>PC Name</th>\n",
       "      <th>Sl no</th>\n",
       "      <th>Candidate</th>\n",
       "      <th>Party</th>\n",
       "      <th>EVM Votes</th>\n",
       "      <th>Postal Votes</th>\n",
       "      <th>Total Votes</th>\n",
       "      <th>Vote Share</th>\n",
       "    </tr>\n",
       "  </thead>\n",
       "  <tbody>\n",
       "    <tr>\n",
       "      <th>0</th>\n",
       "      <td>Andhra Pradesh</td>\n",
       "      <td>1</td>\n",
       "      <td>Araku (ST)</td>\n",
       "      <td>1</td>\n",
       "      <td>GUMMA THANUJA RANI</td>\n",
       "      <td>Yuvajana Sramika Rythu Congress Party</td>\n",
       "      <td>471470</td>\n",
       "      <td>5535</td>\n",
       "      <td>477005</td>\n",
       "      <td>40.96</td>\n",
       "    </tr>\n",
       "  </tbody>\n",
       "</table>\n",
       "</div>"
      ],
      "text/plain": [
       "            State  PC NO     PC Name  Sl no           Candidate  \\\n",
       "0  Andhra Pradesh      1  Araku (ST)      1  GUMMA THANUJA RANI   \n",
       "\n",
       "                                   Party EVM Votes Postal Votes Total Votes  \\\n",
       "0  Yuvajana Sramika Rythu Congress Party    471470         5535      477005   \n",
       "\n",
       "  Vote Share  \n",
       "0      40.96  "
      ]
     },
     "execution_count": 26,
     "metadata": {},
     "output_type": "execute_result"
    }
   ],
   "source": [
    "df7 = pd.read_csv(\"results_2024.csv\")\n",
    "df7.rename(columns={\"PC No\": \"PC NO\"}, inplace=True)\n",
    "df7.head(1)"
   ]
  },
  {
   "cell_type": "code",
   "execution_count": 27,
   "metadata": {},
   "outputs": [
    {
     "name": "stdout",
     "output_type": "stream",
     "text": [
      "Coumns in df1: Index(['State/UT Name', 'PC NO', 'PC NAME', 'TOTAL ELECTORS IN PC', 'AC NO',\n",
      "       'AC NAME', 'TOTAL ELECTORS IN AC', 'TOTAL VALID VOTES IN STATE',\n",
      "       'NOTA VOTES EVM IN AC', 'CANDIDATE NAME', 'PARTY', 'VOTES SECURED EVM'],\n",
      "      dtype='object') \n",
      " Coumns in df2: Index(['State', 'PC NO', 'Constituency', 'Party', 'Candidate Name', 'Gender',\n",
      "       'Age', 'Address', 'Application Date', 'Application Status',\n",
      "       'Father/Husband's Name', 'Photo Link', 'Phase', 'Polling Date'],\n",
      "      dtype='object') \n",
      " Coumns in df3: Index(['State', 'PC NO', 'PC Name', 'Sl no', 'Candidate', 'Party', 'EVM Votes',\n",
      "       'Postal Votes', 'Total Votes', 'Vote Share'],\n",
      "      dtype='object') \n",
      " Coumns in df4: Index(['State', 'PC NO', 'PC Name', 'Winning Candidate', 'Winning Party',\n",
      "       'Runner-up Canddiate', 'Runner-up Party', 'Margin Votes',\n",
      "       'Results Status'],\n",
      "      dtype='object') \n",
      " Coumns in df5: Index(['State', 'PC NO', 'PC Name', 'Winning Candidate', 'Winning Party',\n",
      "       'Runner-up Canddiate', 'Runner-up Party', 'Margin Votes',\n",
      "       'Results Status'],\n",
      "      dtype='object') \n",
      " Coumns in df6: Index(['State', 'PC NO', 'PC Name', 'Winning Candidate', 'Winning Party',\n",
      "       'Runner-up Canddiate', 'Runner-up Party', 'Margin Votes',\n",
      "       'Results Status'],\n",
      "      dtype='object') \n",
      " Coumns in df7: Index(['State', 'PC NO', 'PC Name', 'Sl no', 'Candidate', 'Party', 'EVM Votes',\n",
      "       'Postal Votes', 'Total Votes', 'Vote Share'],\n",
      "      dtype='object')\n"
     ]
    }
   ],
   "source": [
    "print(\"Coumns in df1:\",df1.columns,'\\n',\"Coumns in df2:\",\n",
    "df2.columns,'\\n',\"Coumns in df3:\",\n",
    "df3.columns,'\\n',\"Coumns in df4:\",\n",
    "df4.columns,'\\n',\"Coumns in df5:\",\n",
    "df5.columns,'\\n',\"Coumns in df6:\",\n",
    "df6.columns,'\\n',\"Coumns in df7:\",\n",
    "df7.columns)"
   ]
  },
  {
   "cell_type": "code",
   "execution_count": 28,
   "metadata": {},
   "outputs": [
    {
     "name": "stdout",
     "output_type": "stream",
     "text": [
      "Number of rows in df1: 61734\n",
      "Number of rows in df2: 8441\n",
      "Number of rows in df3: 8902\n",
      "Number of rows in df4: 543\n",
      "Number of rows in df5: 543\n",
      "Number of rows in df6: 543\n",
      "Number of rows in df7: 8902\n"
     ]
    }
   ],
   "source": [
    "print(\"Number of rows in df1:\", df1.shape[0])\n",
    "print(\"Number of rows in df2:\", df2.shape[0])\n",
    "print(\"Number of rows in df3:\", df3.shape[0])\n",
    "print(\"Number of rows in df4:\", df4.shape[0])\n",
    "print(\"Number of rows in df5:\", df5.shape[0])\n",
    "print(\"Number of rows in df6:\", df6.shape[0])\n",
    "print(\"Number of rows in df7:\", df7.shape[0])"
   ]
  }
 ],
 "metadata": {
  "kernelspec": {
   "display_name": "Python 3",
   "language": "python",
   "name": "python3"
  },
  "language_info": {
   "codemirror_mode": {
    "name": "ipython",
    "version": 3
   },
   "file_extension": ".py",
   "mimetype": "text/x-python",
   "name": "python",
   "nbconvert_exporter": "python",
   "pygments_lexer": "ipython3",
   "version": "3.13.1"
  }
 },
 "nbformat": 4,
 "nbformat_minor": 2
}
